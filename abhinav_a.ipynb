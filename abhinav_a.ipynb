{
 "cells": [
  {
   "cell_type": "code",
   "execution_count": 1,
   "id": "9e1867d5",
   "metadata": {},
   "outputs": [
    {
     "name": "stdout",
     "output_type": "stream",
     "text": [
      "Top Second is : 30\n"
     ]
    }
   ],
   "source": [
    "scores = [10 ,40,40,30]\n",
    "\n",
    "unique = list(set(scores))\n",
    "sort = sorted(unique, reverse=True)\n",
    "print(\"Top Second is :\",sort[1])"
   ]
  },
  {
   "cell_type": "code",
   "execution_count": 2,
   "id": "8c661b77",
   "metadata": {},
   "outputs": [
    {
     "name": "stdout",
     "output_type": "stream",
     "text": [
      "Enter the first set : 2,4,6\n",
      "Enter the second set : 4,6,8\n",
      "Common elements found - Intersection: {'4', '6'}\n"
     ]
    }
   ],
   "source": [
    "\n",
    "set1 = set(input(\"Enter the first set : \").split(\",\"))\n",
    "set2 = set(input(\"Enter the second set : \").split(\",\"))\n",
    "\n",
    "\n",
    "intersection = set1 & set2\n",
    "union = set1 | set2\n",
    "\n",
    "\n",
    "if intersection:\n",
    "    print(f\"Common elements found - Intersection: {intersection}\")\n",
    "else:\n",
    "    print(f\"No common elements - Union: {union}\")\n"
   ]
  },
  {
   "cell_type": "code",
   "execution_count": 3,
   "id": "3cb01f73",
   "metadata": {},
   "outputs": [
    {
     "name": "stdout",
     "output_type": "stream",
     "text": [
      "Name of the user :John\n",
      "{'John': '88,77,99', 'Peter': [87, 55, 96], 'Ram': [58, 55, 43], 'Meena': [63, 79, 85]}\n"
     ]
    }
   ],
   "source": [
    "d = {'John' :[25,32,43],'Peter':[87,55,96],'Ram':[58,55,43],'Meena':[63,79,85]}\n",
    "n = str(input(\"Name of the user :\"))\n",
    "if n in d:\n",
    "    d[n]=\"88,77,99\"\n",
    "    print(d)\n",
    "else:\n",
    "    print(\"User not found\")"
   ]
  },
  {
   "cell_type": "code",
   "execution_count": 4,
   "id": "2bcd8059",
   "metadata": {},
   "outputs": [
    {
     "name": "stdout",
     "output_type": "stream",
     "text": [
      "Enter a string: How Are You\n",
      "Characters at even index positions: HwAeYu\n"
     ]
    }
   ],
   "source": [
    "string = input(\"Enter a string: \")\n",
    "even = string[::2]\n",
    "print(\"Characters at even index positions:\", even)"
   ]
  },
  {
   "cell_type": "code",
   "execution_count": 5,
   "id": "6820f11a",
   "metadata": {},
   "outputs": [
    {
     "name": "stdout",
     "output_type": "stream",
     "text": [
      "Enter the age of person 1: 20\n",
      "Enter the age of person 2: 18\n",
      "Enter the age of person 3: 8\n",
      "The oldest person is 20 years old.\n",
      "The youngest person is 8 years old.\n"
     ]
    }
   ],
   "source": [
    "\n",
    "age1 = int(input(\"Enter the age of person 1: \"))\n",
    "age2 = int(input(\"Enter the age of person 2: \"))\n",
    "age3 = int(input(\"Enter the age of person 3: \"))\n",
    "\n",
    "oldest = max(age1, age2, age3)\n",
    "youngest = min(age1, age2, age3)\n",
    "\n",
    "print(f\"The oldest person is {oldest} years old.\")\n",
    "print(f\"The youngest person is {youngest} years old.\")\n"
   ]
  },
  {
   "cell_type": "code",
   "execution_count": null,
   "id": "270c35f0",
   "metadata": {},
   "outputs": [],
   "source": []
  }
 ],
 "metadata": {
  "kernelspec": {
   "display_name": "Python 3 (ipykernel)",
   "language": "python",
   "name": "python3"
  },
  "language_info": {
   "codemirror_mode": {
    "name": "ipython",
    "version": 3
   },
   "file_extension": ".py",
   "mimetype": "text/x-python",
   "name": "python",
   "nbconvert_exporter": "python",
   "pygments_lexer": "ipython3",
   "version": "3.11.5"
  }
 },
 "nbformat": 4,
 "nbformat_minor": 5
}
